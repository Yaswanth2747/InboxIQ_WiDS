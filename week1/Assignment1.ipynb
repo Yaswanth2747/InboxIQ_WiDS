{
 "cells": [
  {
   "cell_type": "markdown",
   "metadata": {},
   "source": [
    "# Python Basics Assignment: Introduction and Setup  \n",
    "\n",
    "Welcome to the **Python Basics Assignment**! This assignment is designed to test your foundational knowledge of Python and essential libraries such as **Pandas**, **Matplotlib**, and **NumPy**. These libraries are widely used for data analysis, visualization, and numerical computations, making them invaluable for any programmer or data scientist.\n",
    "\n",
    "By completing this assignment, you will:  \n",
    "1. Strengthen your understanding of Python programming.  \n",
    "2. Gain hands-on experience with popular Python libraries.  \n",
    "3. Enhance your ability to manipulate data and create insightful visualizations.\n",
    "\n",
    "---\n",
    "\n",
    "## Prerequisites  \n",
    "Before starting, ensure that you have **Python 3.7 or later** installed on your system. If not, follow the instructions below.\n",
    "\n",
    "---\n",
    "\n",
    "## Installation Steps  \n",
    "\n",
    "\n",
    "\n",
    "\n",
    "\n",
    "### Step 1: Install Python  \n",
    "1. Download the latest Python version from [Python.org](https://www.python.org/downloads/).  \n",
    "2. Follow the installation instructions for your operating system:  \n",
    "   - **Windows**: During installation, ensure the checkbox **\"Add Python to PATH\"** is selected.  \n",
    "   - **Mac/Linux**: Use the package manager or installer suitable for your system.  \n",
    "\n",
    "### Step 2: Install Required Libraries  \n",
    "Use the `pip` package manager to install the required libraries. Open your terminal (or Command Prompt) and run the following commands:  \n",
    "\n",
    "```bash\n",
    "pip install pandas matplotlib numpy\n",
    "\n",
    "```\n",
    "### Step 3: Verify Installation\n",
    "You can verify your installations by running the following code and checking the versions of the installed libraries.\n",
    "\n",
    "```python\n",
    "import pandas as pd\n",
    "import matplotlib.pyplot as plt\n",
    "import numpy as np\n",
    "\n",
    "print(\"Pandas version:\", pd.__version__)\n",
    "print(\"Matplotlib version:\", plt.__version__)\n",
    "print(\"NumPy version:\", np.__version__)\n",
    "```\n"
   ]
  },
  {
   "cell_type": "markdown",
   "metadata": {},
   "source": [
    "Once done you can proceed with the assignment!!\n",
    "\n"
   ]
  },
  {
   "cell_type": "markdown",
   "metadata": {},
   "source": [
    "## Assignment1 : Playing with CSVs\n",
    "\n",
    "A **CSV (Comma-Separated Values)** file is a plain text file that stores tabular data in a simple and easily readable format. Each line in a CSV file represents a row of data, and the values in each row are separated by commas (or other delimiters, like semicolons).  \n",
    "\n",
    "## *Loading a csv file*\n",
    "Your first task will be to load the 2 csv files provided to you and clean the data .i.e remove values which are out of bound or drop cells which have missing values.<br>\n",
    "\n",
    "One of the csv file is the famous MNIST datasets(dataset of images of handwritten digits).\n",
    "The following tasks will be based on this dataset, so make sure you understand what this dataset exactly means.<br>\n",
    "\n",
    "**You are free to use any python method of your choice for csv manipulations**\n",
    "\n",
    "\n",
    "\n",
    "\n",
    "\n",
    "\n"
   ]
  },
  {
   "cell_type": "code",
   "execution_count": null,
   "metadata": {},
   "outputs": [],
   "source": [
    "#import necessary libraries here"
   ]
  },
  {
   "cell_type": "code",
   "execution_count": null,
   "metadata": {},
   "outputs": [],
   "source": [
    "#insert code below\n",
    "#its upto you whether or not to use functions\n",
    "csv_path=''\n",
    "def load_csv(csv_path):\n",
    "    pass\n",
    "    #return the df\n",
    "   "
   ]
  },
  {
   "cell_type": "markdown",
   "metadata": {},
   "source": [
    "Let's get back to this csv stuff later on.<br>\n",
    "First lets explore some of the mathematical operations involved in machine learning adn nlp, especially manipulation of matrices and vectors.The basic library responsible for these operations is numpy(our saviour).\n",
    "## *Convolution* ##\n",
    "\n",
    "For a more detailed explanation, you can refer to [Convolution Operations in Mathematics](https://en.wikipedia.org/wiki/Convolution).<br>\n",
    "**Applications:**\n",
    "1. **Image Processing**: Edge detection, blurring, sharpening.  \n",
    "2. **Signal Processing**: Audio filtering, noise reduction.  \n",
    "3. **Deep Learning**: Feature extraction in Convolutional Neural Networks (CNNs).  \n",
    "\n",
    "**Your task** is to perform convolution operation with any one matrice(or a submatrice) from the above csv file with any smaller matrice and give the result of the convolution. \n",
    "You can use any method to do this along with brute force operation and return the time taken to perform the convolution operation in each method.<br>\n",
    "This is the basic principle of CNN networks and other neural networks which are used to extract features from images. \n",
    "\n",
    "\n",
    "* Print the output matrix and times taken by the two different methods.\n",
    "* Also you can plot the times taken when the size of matrix increases.\n",
    "\n",
    "**Hint**: Use **time** library for measurement of time. \n",
    "\n",
    "\n",
    " \n"
   ]
  },
  {
   "cell_type": "code",
   "execution_count": null,
   "metadata": {},
   "outputs": [],
   "source": [
    "#write your code here\n"
   ]
  },
  {
   "cell_type": "markdown",
   "metadata": {},
   "source": [
    "## *Plotting the digits*\n",
    "Once done with the above tasks Plot the images of any 3 digits using the above dataset."
   ]
  },
  {
   "cell_type": "code",
   "execution_count": null,
   "metadata": {},
   "outputs": [],
   "source": [
    "#write the code here"
   ]
  }
 ],
 "metadata": {
  "kernelspec": {
   "display_name": "Python 3",
   "language": "python",
   "name": "python3"
  },
  "language_info": {
   "name": "python",
   "version": "3.12.1"
  }
 },
 "nbformat": 4,
 "nbformat_minor": 2
}
